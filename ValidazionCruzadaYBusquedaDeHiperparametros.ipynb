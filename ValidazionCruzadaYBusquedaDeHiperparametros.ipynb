{
 "cells": [
  {
   "cell_type": "markdown",
   "id": "opened-stranger",
   "metadata": {},
   "source": [
    "# Ajuste de hiperparametros"
   ]
  },
  {
   "cell_type": "code",
   "execution_count": 43,
   "id": "characteristic-sussex",
   "metadata": {},
   "outputs": [],
   "source": [
    "\n",
    "import numpy as np\n",
    "import pandas as pd\n",
    "import time\n",
    "import warnings\n",
    "from sklearn import metrics,preprocessing, tree\n",
    "from sklearn.metrics import f1_score, make_scorer\n",
    "from sklearn.model_selection import cross_val_score\n",
    "from sklearn.model_selection import GridSearchCV, RandomizedSearchCV\n",
    "from sklearn.model_selection import train_test_split\n",
    "warnings.filterwarnings(\"ignore\")"
   ]
  },
  {
   "cell_type": "code",
   "execution_count": 15,
   "id": "demonstrated-memphis",
   "metadata": {},
   "outputs": [
    {
     "data": {
      "text/html": [
       "<div>\n",
       "<style scoped>\n",
       "    .dataframe tbody tr th:only-of-type {\n",
       "        vertical-align: middle;\n",
       "    }\n",
       "\n",
       "    .dataframe tbody tr th {\n",
       "        vertical-align: top;\n",
       "    }\n",
       "\n",
       "    .dataframe thead th {\n",
       "        text-align: right;\n",
       "    }\n",
       "</style>\n",
       "<table border=\"1\" class=\"dataframe\">\n",
       "  <thead>\n",
       "    <tr style=\"text-align: right;\">\n",
       "      <th></th>\n",
       "      <th>ApplicantIncome</th>\n",
       "      <th>CoapplicantIncome</th>\n",
       "      <th>LoanAmount</th>\n",
       "      <th>Loan_Amount_Term</th>\n",
       "      <th>Credit_History</th>\n",
       "      <th>Loan_Status</th>\n",
       "    </tr>\n",
       "  </thead>\n",
       "  <tbody>\n",
       "    <tr>\n",
       "      <th>0</th>\n",
       "      <td>5849</td>\n",
       "      <td>0.0</td>\n",
       "      <td>NaN</td>\n",
       "      <td>360.0</td>\n",
       "      <td>1.0</td>\n",
       "      <td>Y</td>\n",
       "    </tr>\n",
       "    <tr>\n",
       "      <th>1</th>\n",
       "      <td>4583</td>\n",
       "      <td>1508.0</td>\n",
       "      <td>128.0</td>\n",
       "      <td>360.0</td>\n",
       "      <td>1.0</td>\n",
       "      <td>N</td>\n",
       "    </tr>\n",
       "    <tr>\n",
       "      <th>2</th>\n",
       "      <td>3000</td>\n",
       "      <td>0.0</td>\n",
       "      <td>66.0</td>\n",
       "      <td>360.0</td>\n",
       "      <td>1.0</td>\n",
       "      <td>Y</td>\n",
       "    </tr>\n",
       "    <tr>\n",
       "      <th>3</th>\n",
       "      <td>2583</td>\n",
       "      <td>2358.0</td>\n",
       "      <td>120.0</td>\n",
       "      <td>360.0</td>\n",
       "      <td>1.0</td>\n",
       "      <td>Y</td>\n",
       "    </tr>\n",
       "    <tr>\n",
       "      <th>4</th>\n",
       "      <td>6000</td>\n",
       "      <td>0.0</td>\n",
       "      <td>141.0</td>\n",
       "      <td>360.0</td>\n",
       "      <td>1.0</td>\n",
       "      <td>Y</td>\n",
       "    </tr>\n",
       "  </tbody>\n",
       "</table>\n",
       "</div>"
      ],
      "text/plain": [
       "   ApplicantIncome  CoapplicantIncome  LoanAmount  Loan_Amount_Term  \\\n",
       "0             5849                0.0         NaN             360.0   \n",
       "1             4583             1508.0       128.0             360.0   \n",
       "2             3000                0.0        66.0             360.0   \n",
       "3             2583             2358.0       120.0             360.0   \n",
       "4             6000                0.0       141.0             360.0   \n",
       "\n",
       "   Credit_History Loan_Status  \n",
       "0             1.0           Y  \n",
       "1             1.0           N  \n",
       "2             1.0           Y  \n",
       "3             1.0           Y  \n",
       "4             1.0           Y  "
      ]
     },
     "execution_count": 15,
     "metadata": {},
     "output_type": "execute_result"
    }
   ],
   "source": [
    "df= pd.read_csv('C:/Users/cbastian/Documents/MarchineLearning/python3/Bases del modelado/LoadPrediction/train_u6lujuX_CVtuZ9i.csv')\n",
    "df.drop(['Loan_ID','Gender','Married','Dependents','Education','Self_Employed'],\n",
    "axis='columns', inplace=True)\n",
    "df.drop('Property_Area', axis='columns', inplace=True)\n",
    "df.head()"
   ]
  },
  {
   "cell_type": "code",
   "execution_count": 16,
   "id": "instant-corruption",
   "metadata": {},
   "outputs": [
    {
     "data": {
      "text/plain": [
       "ApplicantIncome       0\n",
       "CoapplicantIncome     0\n",
       "LoanAmount           22\n",
       "Loan_Amount_Term     14\n",
       "Credit_History       50\n",
       "Loan_Status           0\n",
       "dtype: int64"
      ]
     },
     "execution_count": 16,
     "metadata": {},
     "output_type": "execute_result"
    }
   ],
   "source": [
    "df.isnull().sum()"
   ]
  },
  {
   "cell_type": "code",
   "execution_count": 20,
   "id": "weird-moses",
   "metadata": {},
   "outputs": [
    {
     "data": {
      "text/html": [
       "<div>\n",
       "<style scoped>\n",
       "    .dataframe tbody tr th:only-of-type {\n",
       "        vertical-align: middle;\n",
       "    }\n",
       "\n",
       "    .dataframe tbody tr th {\n",
       "        vertical-align: top;\n",
       "    }\n",
       "\n",
       "    .dataframe thead th {\n",
       "        text-align: right;\n",
       "    }\n",
       "</style>\n",
       "<table border=\"1\" class=\"dataframe\">\n",
       "  <thead>\n",
       "    <tr style=\"text-align: right;\">\n",
       "      <th></th>\n",
       "      <th>ApplicantIncome</th>\n",
       "      <th>CoapplicantIncome</th>\n",
       "      <th>LoanAmount</th>\n",
       "      <th>Loan_Amount_Term</th>\n",
       "      <th>Credit_History</th>\n",
       "      <th>Loan_Status</th>\n",
       "    </tr>\n",
       "  </thead>\n",
       "  <tbody>\n",
       "    <tr>\n",
       "      <th>0</th>\n",
       "      <td>5849</td>\n",
       "      <td>0.0</td>\n",
       "      <td>0.0</td>\n",
       "      <td>360.0</td>\n",
       "      <td>1.0</td>\n",
       "      <td>Y</td>\n",
       "    </tr>\n",
       "    <tr>\n",
       "      <th>1</th>\n",
       "      <td>4583</td>\n",
       "      <td>1508.0</td>\n",
       "      <td>128.0</td>\n",
       "      <td>360.0</td>\n",
       "      <td>1.0</td>\n",
       "      <td>N</td>\n",
       "    </tr>\n",
       "    <tr>\n",
       "      <th>2</th>\n",
       "      <td>3000</td>\n",
       "      <td>0.0</td>\n",
       "      <td>66.0</td>\n",
       "      <td>360.0</td>\n",
       "      <td>1.0</td>\n",
       "      <td>Y</td>\n",
       "    </tr>\n",
       "    <tr>\n",
       "      <th>3</th>\n",
       "      <td>2583</td>\n",
       "      <td>2358.0</td>\n",
       "      <td>120.0</td>\n",
       "      <td>360.0</td>\n",
       "      <td>1.0</td>\n",
       "      <td>Y</td>\n",
       "    </tr>\n",
       "    <tr>\n",
       "      <th>4</th>\n",
       "      <td>6000</td>\n",
       "      <td>0.0</td>\n",
       "      <td>141.0</td>\n",
       "      <td>360.0</td>\n",
       "      <td>1.0</td>\n",
       "      <td>Y</td>\n",
       "    </tr>\n",
       "    <tr>\n",
       "      <th>...</th>\n",
       "      <td>...</td>\n",
       "      <td>...</td>\n",
       "      <td>...</td>\n",
       "      <td>...</td>\n",
       "      <td>...</td>\n",
       "      <td>...</td>\n",
       "    </tr>\n",
       "    <tr>\n",
       "      <th>609</th>\n",
       "      <td>2900</td>\n",
       "      <td>0.0</td>\n",
       "      <td>71.0</td>\n",
       "      <td>360.0</td>\n",
       "      <td>1.0</td>\n",
       "      <td>Y</td>\n",
       "    </tr>\n",
       "    <tr>\n",
       "      <th>610</th>\n",
       "      <td>4106</td>\n",
       "      <td>0.0</td>\n",
       "      <td>40.0</td>\n",
       "      <td>180.0</td>\n",
       "      <td>1.0</td>\n",
       "      <td>Y</td>\n",
       "    </tr>\n",
       "    <tr>\n",
       "      <th>611</th>\n",
       "      <td>8072</td>\n",
       "      <td>240.0</td>\n",
       "      <td>253.0</td>\n",
       "      <td>360.0</td>\n",
       "      <td>1.0</td>\n",
       "      <td>Y</td>\n",
       "    </tr>\n",
       "    <tr>\n",
       "      <th>612</th>\n",
       "      <td>7583</td>\n",
       "      <td>0.0</td>\n",
       "      <td>187.0</td>\n",
       "      <td>360.0</td>\n",
       "      <td>1.0</td>\n",
       "      <td>Y</td>\n",
       "    </tr>\n",
       "    <tr>\n",
       "      <th>613</th>\n",
       "      <td>4583</td>\n",
       "      <td>0.0</td>\n",
       "      <td>133.0</td>\n",
       "      <td>360.0</td>\n",
       "      <td>0.0</td>\n",
       "      <td>N</td>\n",
       "    </tr>\n",
       "  </tbody>\n",
       "</table>\n",
       "<p>614 rows × 6 columns</p>\n",
       "</div>"
      ],
      "text/plain": [
       "     ApplicantIncome  CoapplicantIncome  LoanAmount  Loan_Amount_Term  \\\n",
       "0               5849                0.0         0.0             360.0   \n",
       "1               4583             1508.0       128.0             360.0   \n",
       "2               3000                0.0        66.0             360.0   \n",
       "3               2583             2358.0       120.0             360.0   \n",
       "4               6000                0.0       141.0             360.0   \n",
       "..               ...                ...         ...               ...   \n",
       "609             2900                0.0        71.0             360.0   \n",
       "610             4106                0.0        40.0             180.0   \n",
       "611             8072              240.0       253.0             360.0   \n",
       "612             7583                0.0       187.0             360.0   \n",
       "613             4583                0.0       133.0             360.0   \n",
       "\n",
       "     Credit_History Loan_Status  \n",
       "0               1.0           Y  \n",
       "1               1.0           N  \n",
       "2               1.0           Y  \n",
       "3               1.0           Y  \n",
       "4               1.0           Y  \n",
       "..              ...         ...  \n",
       "609             1.0           Y  \n",
       "610             1.0           Y  \n",
       "611             1.0           Y  \n",
       "612             1.0           Y  \n",
       "613             0.0           N  \n",
       "\n",
       "[614 rows x 6 columns]"
      ]
     },
     "execution_count": 20,
     "metadata": {},
     "output_type": "execute_result"
    }
   ],
   "source": [
    "values = {'LoanAmount': 0.0, 'Loan_Amount_Term': 360, 'Credit_History': 1}\n",
    "df.fillna(value=values, inplace=True)\n",
    "df"
   ]
  },
  {
   "cell_type": "code",
   "execution_count": 21,
   "id": "facial-nutrition",
   "metadata": {},
   "outputs": [
    {
     "data": {
      "text/plain": [
       "(614, 6)"
      ]
     },
     "execution_count": 21,
     "metadata": {},
     "output_type": "execute_result"
    }
   ],
   "source": [
    "df.shape"
   ]
  },
  {
   "cell_type": "markdown",
   "id": "formed-address",
   "metadata": {},
   "source": [
    "## usar arbol de desicion "
   ]
  },
  {
   "cell_type": "code",
   "execution_count": 22,
   "id": "impossible-trademark",
   "metadata": {},
   "outputs": [],
   "source": [
    "from sklearn.tree import DecisionTreeClassifier as dt\n",
    "model= dt()"
   ]
  },
  {
   "cell_type": "code",
   "execution_count": 23,
   "id": "sunset-migration",
   "metadata": {},
   "outputs": [],
   "source": [
    "x= np.asanyarray(df.iloc[:,0:-1])\n",
    "y= np.asanyarray(df.iloc[:,-1])"
   ]
  },
  {
   "cell_type": "code",
   "execution_count": 25,
   "id": "radical-hearts",
   "metadata": {},
   "outputs": [
    {
     "data": {
      "text/plain": [
       "((614, 5), (614,))"
      ]
     },
     "execution_count": 25,
     "metadata": {},
     "output_type": "execute_result"
    }
   ],
   "source": [
    "x.shape, y.shape"
   ]
  },
  {
   "cell_type": "code",
   "execution_count": 28,
   "id": "divine-extension",
   "metadata": {},
   "outputs": [],
   "source": [
    "X_train,X_test, y_train,y_test= train_test_split(x,y,test_size=0.20, random_state=0)"
   ]
  },
  {
   "cell_type": "code",
   "execution_count": 29,
   "id": "looking-contrary",
   "metadata": {},
   "outputs": [
    {
     "data": {
      "text/plain": [
       "((491, 5), (123, 5))"
      ]
     },
     "execution_count": 29,
     "metadata": {},
     "output_type": "execute_result"
    }
   ],
   "source": [
    "X_train.shape, X_test.shape"
   ]
  },
  {
   "cell_type": "markdown",
   "id": "brave-april",
   "metadata": {},
   "source": [
    "## usar cross validation"
   ]
  },
  {
   "cell_type": "code",
   "execution_count": 32,
   "id": "accepting-intellectual",
   "metadata": {},
   "outputs": [
    {
     "name": "stdout",
     "output_type": "stream",
     "text": [
      "[0.66243386 0.7030303  0.70185915 0.59894078 0.62582437]\n"
     ]
    }
   ],
   "source": [
    "#cv= lo partire en 5 \n",
    "# score de clasificacion en este caso f1 macro\n",
    "scores= cross_val_score(model,X_train,y_train, cv=5, scoring='f1_macro' )\n",
    "print(scores)"
   ]
  },
  {
   "cell_type": "code",
   "execution_count": 34,
   "id": "intimate-customs",
   "metadata": {},
   "outputs": [
    {
     "data": {
      "text/plain": [
       "0.6584176933808502"
      ]
     },
     "execution_count": 34,
     "metadata": {},
     "output_type": "execute_result"
    }
   ],
   "source": [
    "## sacamos la media del score\n",
    "## tenemos la medida robusca con cross validation \n",
    "scores.mean()"
   ]
  },
  {
   "cell_type": "markdown",
   "id": "parental-elimination",
   "metadata": {},
   "source": [
    "## buscar los hiperparametros del modelo"
   ]
  },
  {
   "cell_type": "markdown",
   "id": "liquid-accommodation",
   "metadata": {},
   "source": [
    " ### Busqueda por rejilla"
   ]
  },
  {
   "cell_type": "code",
   "execution_count": 35,
   "id": "conventional-pride",
   "metadata": {},
   "outputs": [],
   "source": [
    "# para el modelo de arbol de decision tengo algunos hiperparametros mas importantes\n",
    "## maximo de profundidad= mayor prof mas complejo mi arbol de desicion\n",
    "parameters= { 'max_depth':[1,2,3,4,5],\n",
    "             ##minimo de muestras por hoja   \n",
    "             'min_samples_leaf':[1,2,3,4,5],\n",
    "             ## minimo de mestra por division\n",
    "             'min_samples_split':[2,3,4,5],\n",
    "             # y los criterios que pueden ser gini y entropy\n",
    "             'criterion':['gini','entropy']\n",
    "            }"
   ]
  },
  {
   "cell_type": "code",
   "execution_count": 37,
   "id": "adjacent-detection",
   "metadata": {},
   "outputs": [
    {
     "name": "stdout",
     "output_type": "stream",
     "text": [
      "[0.7268797  0.7268797  0.7268797  0.7268797  0.7268797  0.7268797\n",
      " 0.7268797  0.7268797  0.7268797  0.7268797  0.7268797  0.7268797\n",
      " 0.7268797  0.7268797  0.7268797  0.7268797  0.7268797  0.7268797\n",
      " 0.7268797  0.7268797  0.71921059 0.71921059 0.71921059 0.71921059\n",
      " 0.72272563 0.72272563 0.72272563 0.72272563 0.72272563 0.72272563\n",
      " 0.72272563 0.72272563 0.72272563 0.72272563 0.72272563 0.72272563\n",
      " 0.72272563 0.72272563 0.72272563 0.72272563 0.71652232 0.71652232\n",
      " 0.71652232 0.71652232 0.69903543 0.69903543 0.69903543 0.69903543\n",
      " 0.69903543 0.69903543 0.69903543 0.69903543 0.69738555 0.69738555\n",
      " 0.69738555 0.69738555 0.70101339 0.69738555 0.70101339 0.70101339\n",
      " 0.69889547 0.69889547 0.69889547 0.69889547 0.71355096 0.71355096\n",
      " 0.71355096 0.71355096 0.69103056 0.70137041 0.69103056 0.70137041\n",
      " 0.68209863 0.68572647 0.68209863 0.68572647 0.68572647 0.68572647\n",
      " 0.68209863 0.68209863 0.66553143 0.6693941  0.6693941  0.6693941\n",
      " 0.66856024 0.66856024 0.67923403 0.67923403 0.66604228 0.67578736\n",
      " 0.66604228 0.66427472 0.66228042 0.66558244 0.66228042 0.66558244\n",
      " 0.66558244 0.66558244 0.66228042 0.66228042 0.7268797  0.7268797\n",
      " 0.7268797  0.7268797  0.7268797  0.7268797  0.7268797  0.7268797\n",
      " 0.7268797  0.7268797  0.7268797  0.7268797  0.7268797  0.7268797\n",
      " 0.7268797  0.7268797  0.7268797  0.7268797  0.7268797  0.7268797\n",
      " 0.72272563 0.72272563 0.72272563 0.72272563 0.72272563 0.72272563\n",
      " 0.72272563 0.72272563 0.72272563 0.72272563 0.72272563 0.72272563\n",
      " 0.72272563 0.72272563 0.72272563 0.72272563 0.72272563 0.72272563\n",
      " 0.72272563 0.72272563 0.70439907 0.70439907 0.70439907 0.70439907\n",
      " 0.70791411 0.70791411 0.70791411 0.70791411 0.70791411 0.70791411\n",
      " 0.70791411 0.70791411 0.70626423 0.70626423 0.70626423 0.70626423\n",
      " 0.70626423 0.70626423 0.70626423 0.70626423 0.70280041 0.70280041\n",
      " 0.70480338 0.69916603 0.69753461 0.69753461 0.70832669 0.69753461\n",
      " 0.68206712 0.69219752 0.68206712 0.68206712 0.67829567 0.67829567\n",
      " 0.67829567 0.67829567 0.67829567 0.67829567 0.67829567 0.67829567\n",
      " 0.67369336 0.67174469 0.67002021 0.67369336 0.67100228 0.68179435\n",
      " 0.68179435 0.6692094  0.66774458 0.67830156 0.68563203 0.66774458\n",
      " 0.66044664 0.66044664 0.66044664 0.66044664 0.66044664 0.66044664\n",
      " 0.66044664 0.66044664]\n"
     ]
    }
   ],
   "source": [
    "## tratamos de mandar los mismos parametros que mandamos a nuestro cross validation\n",
    "\n",
    "search_obj = GridSearchCV(model,  parameters, cv=5, scoring='f1_macro' )\n",
    "\n",
    "## entrenamos nuestro objeto de busqueda entrena muchos modelos \n",
    "## cada modelo con las convinaciones posibles que mandamos\n",
    "fit_obj= search_obj.fit( X_train,y_train )\n",
    "\n",
    "##obtener los resultados del cros validation \n",
    "## cada numero es un hiperparametro que hicimos y lo esntrenamos todso a la vez\n",
    "print(fit_obj.cv_results_['mean_test_score'])\n"
   ]
  },
  {
   "cell_type": "code",
   "execution_count": 38,
   "id": "essential-sending",
   "metadata": {},
   "outputs": [
    {
     "data": {
      "text/plain": [
       "DecisionTreeClassifier(max_depth=1)"
      ]
     },
     "execution_count": 38,
     "metadata": {},
     "output_type": "execute_result"
    }
   ],
   "source": [
    "## el mejor estimador y lo guardamos\n",
    "best_model= fit_obj.best_estimator_\n",
    "best_model"
   ]
  },
  {
   "cell_type": "code",
   "execution_count": 49,
   "id": "sublime-isaac",
   "metadata": {},
   "outputs": [
    {
     "data": {
      "text/plain": [
       "array([0.76285755, 0.75168919, 0.76210196, 0.60606061, 0.75168919])"
      ]
     },
     "execution_count": 49,
     "metadata": {},
     "output_type": "execute_result"
    }
   ],
   "source": [
    "#lo enrtrenare nuevamente con cross validation\n",
    "scores= cross_val_score(best_model,X_train,y_train, cv=5,scoring='f1_macro' )\n",
    "scores"
   ]
  },
  {
   "cell_type": "code",
   "execution_count": 50,
   "id": "familiar-distributor",
   "metadata": {},
   "outputs": [
    {
     "data": {
      "text/plain": [
       "0.7268796972370323"
      ]
     },
     "execution_count": 50,
     "metadata": {},
     "output_type": "execute_result"
    }
   ],
   "source": [
    "## sacar la media\n",
    "scores.mean()"
   ]
  },
  {
   "cell_type": "code",
   "execution_count": 51,
   "id": "foster-pharmacy",
   "metadata": {},
   "outputs": [
    {
     "name": "stdout",
     "output_type": "stream",
     "text": [
      "Train:  0.8044806517311609\n",
      "Test:  0.8292682926829268\n"
     ]
    }
   ],
   "source": [
    "## entrenarlo otra vez\n",
    "best_model.fit(X_train, y_train)\n",
    "\n",
    "## hacer las predicciones usando el nuevo modelo\n",
    "\n",
    "print('Train: ', best_model.score(X_train,y_train))\n",
    "print('Test: ', best_model.score(X_test,y_test))"
   ]
  },
  {
   "cell_type": "markdown",
   "id": "focal-operations",
   "metadata": {},
   "source": [
    "### Busqueda Aleatoria"
   ]
  },
  {
   "cell_type": "code",
   "execution_count": 55,
   "id": "ready-failure",
   "metadata": {},
   "outputs": [
    {
     "name": "stdout",
     "output_type": "stream",
     "text": [
      "[0.66044664 0.69903543 0.7268797  0.72272563 0.7268797  0.72272563\n",
      " 0.67100228 0.70626423 0.7268797  0.72272563]\n"
     ]
    }
   ],
   "source": [
    "\n",
    "search_obj= RandomizedSearchCV(model, parameters, cv=5, scoring='f1_macro' )\n",
    "fit_obj= search_obj.fit(X_train,y_train)\n",
    "print(fit_obj.cv_results_['mean_test_score'])\n"
   ]
  },
  {
   "cell_type": "code",
   "execution_count": 56,
   "id": "circular-alexandria",
   "metadata": {},
   "outputs": [
    {
     "data": {
      "text/plain": [
       "DecisionTreeClassifier(criterion='entropy', max_depth=1, min_samples_split=4)"
      ]
     },
     "execution_count": 56,
     "metadata": {},
     "output_type": "execute_result"
    }
   ],
   "source": [
    "best_model= fit_obj.best_estimator_\n",
    "best_model"
   ]
  },
  {
   "cell_type": "code",
   "execution_count": 57,
   "id": "changed-personal",
   "metadata": {},
   "outputs": [
    {
     "name": "stdout",
     "output_type": "stream",
     "text": [
      "Train:  0.8044806517311609\n",
      "Test:  0.8292682926829268\n"
     ]
    }
   ],
   "source": [
    "## lo entreno otra vezx\n",
    "\n",
    "best_model.fit(X_train,y_train)\n",
    "\n",
    "#hacemos las predicciones\n",
    "print('Train: ', best_model.score(X_train,y_train))\n",
    "print('Test: ', best_model.score(X_test,y_test))"
   ]
  },
  {
   "cell_type": "code",
   "execution_count": null,
   "id": "incident-andorra",
   "metadata": {},
   "outputs": [],
   "source": []
  },
  {
   "cell_type": "code",
   "execution_count": null,
   "id": "curious-reporter",
   "metadata": {},
   "outputs": [],
   "source": []
  }
 ],
 "metadata": {
  "kernelspec": {
   "display_name": "Python 3",
   "language": "python",
   "name": "python3"
  },
  "language_info": {
   "codemirror_mode": {
    "name": "ipython",
    "version": 3
   },
   "file_extension": ".py",
   "mimetype": "text/x-python",
   "name": "python",
   "nbconvert_exporter": "python",
   "pygments_lexer": "ipython3",
   "version": "3.8.5"
  },
  "toc": {
   "base_numbering": 1,
   "nav_menu": {},
   "number_sections": true,
   "sideBar": true,
   "skip_h1_title": false,
   "title_cell": "Table of Contents",
   "title_sidebar": "Contents",
   "toc_cell": false,
   "toc_position": {},
   "toc_section_display": true,
   "toc_window_display": false
  },
  "varInspector": {
   "cols": {
    "lenName": 16,
    "lenType": 16,
    "lenVar": 40
   },
   "kernels_config": {
    "python": {
     "delete_cmd_postfix": "",
     "delete_cmd_prefix": "del ",
     "library": "var_list.py",
     "varRefreshCmd": "print(var_dic_list())"
    },
    "r": {
     "delete_cmd_postfix": ") ",
     "delete_cmd_prefix": "rm(",
     "library": "var_list.r",
     "varRefreshCmd": "cat(var_dic_list()) "
    }
   },
   "types_to_exclude": [
    "module",
    "function",
    "builtin_function_or_method",
    "instance",
    "_Feature"
   ],
   "window_display": false
  }
 },
 "nbformat": 4,
 "nbformat_minor": 5
}
